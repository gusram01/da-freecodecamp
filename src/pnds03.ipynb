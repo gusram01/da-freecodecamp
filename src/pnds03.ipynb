{
 "cells": [
  {
   "cell_type": "code",
   "execution_count": 1,
   "id": "f2208cb4",
   "metadata": {},
   "outputs": [],
   "source": [
    "import os\n",
    "import pandas as pd\n",
    "import numpy as np\n"
   ]
  },
  {
   "cell_type": "code",
   "execution_count": 2,
   "id": "c2e70630",
   "metadata": {},
   "outputs": [],
   "source": [
    "file_path_pc = os.path.join('/','home','jovyan','work','src','data','taxi-passenger-count.csv')\n",
    "file_path_pd = os.path.join('/','home','jovyan','work','src','data','taxi-distance.csv')\n",
    "\n",
    "if not os.path.exists(file_path_pc) or not os.path.exists(file_path_pd):\n",
    "    raise FileNotFoundError(\"some file not found\")\n",
    "\n",
    "\n",
    "df_d = pd.read_csv(file_path_pd, header=None).squeeze()\n",
    "df_c = pd.read_csv(file_path_pc, header=None).squeeze()"
   ]
  },
  {
   "cell_type": "code",
   "execution_count": 30,
   "id": "d2762af5",
   "metadata": {},
   "outputs": [
    {
     "data": {
      "text/html": [
       "<div>\n",
       "<style scoped>\n",
       "    .dataframe tbody tr th:only-of-type {\n",
       "        vertical-align: middle;\n",
       "    }\n",
       "\n",
       "    .dataframe tbody tr th {\n",
       "        vertical-align: top;\n",
       "    }\n",
       "\n",
       "    .dataframe thead th {\n",
       "        text-align: right;\n",
       "    }\n",
       "</style>\n",
       "<table border=\"1\" class=\"dataframe\">\n",
       "  <thead>\n",
       "    <tr style=\"text-align: right;\">\n",
       "      <th></th>\n",
       "      <th>trip_distance</th>\n",
       "      <th>passenger_count</th>\n",
       "    </tr>\n",
       "  </thead>\n",
       "  <tbody>\n",
       "    <tr>\n",
       "      <th>count</th>\n",
       "      <td>9999.000000</td>\n",
       "      <td>9999.000000</td>\n",
       "    </tr>\n",
       "    <tr>\n",
       "      <th>mean</th>\n",
       "      <td>3.158511</td>\n",
       "      <td>1.659466</td>\n",
       "    </tr>\n",
       "    <tr>\n",
       "      <th>std</th>\n",
       "      <td>4.037516</td>\n",
       "      <td>1.333306</td>\n",
       "    </tr>\n",
       "    <tr>\n",
       "      <th>min</th>\n",
       "      <td>0.000000</td>\n",
       "      <td>0.000000</td>\n",
       "    </tr>\n",
       "    <tr>\n",
       "      <th>25%</th>\n",
       "      <td>1.000000</td>\n",
       "      <td>1.000000</td>\n",
       "    </tr>\n",
       "    <tr>\n",
       "      <th>50%</th>\n",
       "      <td>1.700000</td>\n",
       "      <td>1.000000</td>\n",
       "    </tr>\n",
       "    <tr>\n",
       "      <th>75%</th>\n",
       "      <td>3.300000</td>\n",
       "      <td>2.000000</td>\n",
       "    </tr>\n",
       "    <tr>\n",
       "      <th>max</th>\n",
       "      <td>64.600000</td>\n",
       "      <td>6.000000</td>\n",
       "    </tr>\n",
       "  </tbody>\n",
       "</table>\n",
       "</div>"
      ],
      "text/plain": [
       "       trip_distance  passenger_count\n",
       "count    9999.000000      9999.000000\n",
       "mean        3.158511         1.659466\n",
       "std         4.037516         1.333306\n",
       "min         0.000000         0.000000\n",
       "25%         1.000000         1.000000\n",
       "50%         1.700000         1.000000\n",
       "75%         3.300000         2.000000\n",
       "max        64.600000         6.000000"
      ]
     },
     "execution_count": 30,
     "metadata": {},
     "output_type": "execute_result"
    }
   ],
   "source": [
    "df = pd.DataFrame({\n",
    "    'trip_distance': df_d,\n",
    "    'passenger_count': df_c,\n",
    "})\n",
    "df.describe()"
   ]
  },
  {
   "cell_type": "code",
   "execution_count": 22,
   "id": "227a36b5",
   "metadata": {},
   "outputs": [],
   "source": [
    "iqr_dst = (\n",
    "    df['trip_distance'].quantile(0.75) -\n",
    "    df['trip_distance'].quantile(0.25)\n",
    ")"
   ]
  },
  {
   "cell_type": "code",
   "execution_count": 26,
   "id": "65707a5f",
   "metadata": {},
   "outputs": [],
   "source": [
    "outliers_down_mask = df['trip_distance'] < (df['trip_distance'].quantile(0.25) - 1.5*iqr_dst)\n",
    "outliers_down = df[outliers_down_mask]\n",
    "outliers_up_mask = df['trip_distance'] > (df['trip_distance'].quantile(0.75) + 1.5*iqr_dst)\n",
    "outliers_up = df[outliers_up_mask]"
   ]
  },
  {
   "cell_type": "code",
   "execution_count": 29,
   "id": "c5adfb6e",
   "metadata": {},
   "outputs": [
    {
     "data": {
      "text/plain": [
       "np.float64(1.7301066447908122)"
      ]
     },
     "execution_count": 29,
     "metadata": {},
     "output_type": "execute_result"
    }
   ],
   "source": [
    "df['passenger_count'][outliers_up_mask].mean()"
   ]
  },
  {
   "cell_type": "code",
   "execution_count": null,
   "id": "5f9c447e",
   "metadata": {},
   "outputs": [],
   "source": []
  }
 ],
 "metadata": {
  "kernelspec": {
   "display_name": "Python 3 (ipykernel)",
   "language": "python",
   "name": "python3"
  }
 },
 "nbformat": 4,
 "nbformat_minor": 5
}
