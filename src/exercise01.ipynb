{
 "cells": [
  {
   "cell_type": "markdown",
   "id": "1b21e62e",
   "metadata": {},
   "source": [
    "# Create a Matrix Statistics Function\n",
    "\n",
    "Create a function named `calculate()` in `mean_var_std.py` that uses Numpy to output the mean, variance, standard deviation, max, min, and sum of the rows, columns, and elements in a 3 x 3 matrix.\n",
    "\n",
    "The input of the function should be a list containing 9 digits. The function should convert the list into a 3 x 3 Numpy array, and then return a dictionary containing the mean, variance, standard deviation, max, min, and sum along both axes and for the flattened matrix.\n",
    "\n",
    "The returned dictionary should follow this format:\n",
    "\n",
    "```python\n",
    "{\n",
    "  'mean': [axis1, axis2, flattened],\n",
    "  'variance': [axis1, axis2, flattened],\n",
    "  'standard deviation': [axis1, axis2, flattened],\n",
    "  'max': [axis1, axis2, flattened],\n",
    "  'min': [axis1, axis2, flattened],\n",
    "  'sum': [axis1, axis2, flattened]\n",
    "}\n",
    "```\n",
    "\n",
    "If a list containing less than 9 elements is passed into the function, it should raise a `ValueError` exception with the message: \"List must contain nine numbers.\" The values in the returned dictionary should be lists and not Numpy arrays.\n",
    "\n",
    "For example, `calculate([0,1,2,3,4,5,6,7,8])` should return:\n",
    "\n",
    "```python\n",
    "{\n",
    "  'mean': [[3.0, 4.0, 5.0], [1.0, 4.0, 7.0], 4.0],\n",
    "  'variance': [[6.0, 6.0, 6.0], [0.6666666666666666, 0.6666666666666666, 0.6666666666666666], 6.666666666666667],\n",
    "  'standard deviation': [[2.449489742783178, 2.449489742783178, 2.449489742783178], [0.816496580927726, 0.816496580927726, 0.816496580927726], 2.581988897471611],\n",
    "  'max': [[6, 7, 8], [2, 5, 8], 8],\n",
    "  'min': [[0, 1, 2], [0, 3, 6], 0],\n",
    "  'sum': [[9, 12, 15], [3, 12, 21], 36]\n",
    "}\n",
    "```"
   ]
  },
  {
   "cell_type": "code",
   "execution_count": 1,
   "id": "ddb8807b",
   "metadata": {},
   "outputs": [],
   "source": [
    "import numpy as np\n",
    "\n",
    "entry = [0, 1, 2, 3, 4, 5, 6, 7, 8]\n",
    "np_entry = np.array(entry)\n"
   ]
  },
  {
   "cell_type": "code",
   "execution_count": null,
   "id": "51ff3e51",
   "metadata": {},
   "outputs": [],
   "source": [
    "def calculate(ent):\n",
    "  shaped = ent.reshape(3, 3)\n",
    "\n",
    "  return {\n",
    "    'mean': [shaped.mean(axis=0).to_list(), shaped.mean(axis=1), shaped.mean()],\n",
    "    'variance': [shaped.var(axis=0), shaped.var(axis=1), shaped.var()],\n",
    "    'standard deviation': [shaped.std(axis=0), shaped.std(axis=1), shaped.std()],\n",
    "    'max': [shaped.max(axis=0), shaped.max(axis=1), shaped.max()],\n",
    "    'min': [shaped.min(axis=0), shaped.min(axis=1), shaped.min()],\n",
    "    'sum': [shaped.sum(axis=0), shaped.sum(axis=1), shaped.sum()]\n",
    "  }\n",
    "\n"
   ]
  },
  {
   "cell_type": "code",
   "execution_count": 3,
   "id": "4b6b9ddb",
   "metadata": {},
   "outputs": [
    {
     "data": {
      "text/plain": [
       "{'mean': [array([3., 4., 5.]), array([1., 4., 7.]), np.float64(4.0)],\n",
       " 'variance': [array([6., 6., 6.]),\n",
       "  array([0.66666667, 0.66666667, 0.66666667]),\n",
       "  np.float64(6.666666666666667)],\n",
       " 'standard_deviation': [array([2.44948974, 2.44948974, 2.44948974]),\n",
       "  array([0.81649658, 0.81649658, 0.81649658]),\n",
       "  np.float64(2.581988897471611)],\n",
       " 'max': [array([6, 7, 8]), array([2, 5, 8]), np.int64(8)],\n",
       " 'min': [array([0, 1, 2]), array([0, 3, 6]), np.int64(0)],\n",
       " 'sum': [array([ 9, 12, 15]), array([ 3, 12, 21]), np.int64(36)]}"
      ]
     },
     "execution_count": 3,
     "metadata": {},
     "output_type": "execute_result"
    }
   ],
   "source": [
    "calculate(np_entry)"
   ]
  },
  {
   "cell_type": "code",
   "execution_count": null,
   "id": "d328de4a",
   "metadata": {},
   "outputs": [],
   "source": []
  }
 ],
 "metadata": {
  "kernelspec": {
   "display_name": "Python 3 (ipykernel)",
   "language": "python",
   "name": "python3"
  }
 },
 "nbformat": 4,
 "nbformat_minor": 5
}
