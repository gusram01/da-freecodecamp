{
 "cells": [
  {
   "cell_type": "code",
   "execution_count": 11,
   "id": "8c7f6b46",
   "metadata": {},
   "outputs": [],
   "source": [
    "import os\n",
    "import numpy as np\n",
    "import pandas as pd\n"
   ]
  },
  {
   "cell_type": "code",
   "execution_count": 9,
   "id": "b108b5e2",
   "metadata": {},
   "outputs": [
    {
     "data": {
      "text/plain": [
       "Sep    90.0\n",
       "Oct    85.0\n",
       "Nov    83.0\n",
       "Dec    78.0\n",
       "Jan    79.0\n",
       "Feb    73.0\n",
       "Mar    74.0\n",
       "Apr    73.0\n",
       "May    76.0\n",
       "Jun    89.0\n",
       "dtype: float64"
      ]
     },
     "execution_count": 9,
     "metadata": {},
     "output_type": "execute_result"
    }
   ],
   "source": [
    "rnd = np.random.default_rng(0)\n",
    "months = 'Sep Oct Nov Dec Jan Feb Mar Apr May Jun'.split()\n",
    "\n",
    "s = pd.Series(rnd.integers(40, 60, 10), index=months)\n",
    "s + (80 - s.mean())"
   ]
  },
  {
   "cell_type": "code",
   "execution_count": 10,
   "id": "33504b24",
   "metadata": {},
   "outputs": [
    {
     "data": {
      "text/plain": [
       "['Sun',\n",
       " 'Mon',\n",
       " 'Tue',\n",
       " 'Wed',\n",
       " 'Thu',\n",
       " 'Fri',\n",
       " 'Sat',\n",
       " 'Sun',\n",
       " 'Mon',\n",
       " 'Tue',\n",
       " 'Wed',\n",
       " 'Thu',\n",
       " 'Fri',\n",
       " 'Sat',\n",
       " 'Sun',\n",
       " 'Mon',\n",
       " 'Tue',\n",
       " 'Wed',\n",
       " 'Thu',\n",
       " 'Fri',\n",
       " 'Sat',\n",
       " 'Sun',\n",
       " 'Mon',\n",
       " 'Tue',\n",
       " 'Wed',\n",
       " 'Thu',\n",
       " 'Fri',\n",
       " 'Sat']"
      ]
     },
     "execution_count": 10,
     "metadata": {},
     "output_type": "execute_result"
    }
   ],
   "source": [
    "days = 'Sun Mon Tue Wed Thu Fri Sat'.split()\n",
    "\n",
    "days*4"
   ]
  },
  {
   "cell_type": "code",
   "execution_count": 15,
   "id": "2eaa70cd",
   "metadata": {},
   "outputs": [],
   "source": [
    "\n",
    "file_path = os.path.join('/','home','jovyan','work','src','data','taxi-passenger-count.csv')\n",
    "\n",
    "if not os.path.exists(file_path):\n",
    "    raise FileNotFoundError(f\"File not found at: {file_path}\")\n",
    "\n",
    "df = pd.read_csv(file_path, header=None).squeeze()"
   ]
  },
  {
   "cell_type": "code",
   "execution_count": 20,
   "id": "6fa5a08f",
   "metadata": {},
   "outputs": [
    {
     "data": {
      "text/plain": [
       "0\n",
       "1    0.720772\n",
       "2    0.131313\n",
       "5    0.052005\n",
       "3    0.040604\n",
       "6    0.036904\n",
       "4    0.018202\n",
       "0    0.000200\n",
       "Name: proportion, dtype: float64"
      ]
     },
     "execution_count": 20,
     "metadata": {},
     "output_type": "execute_result"
    }
   ],
   "source": [
    "df.unique()\n",
    "df.value_counts(normalize=True)\n"
   ]
  },
  {
   "cell_type": "code",
   "execution_count": 24,
   "id": "0169dc1d",
   "metadata": {},
   "outputs": [],
   "source": [
    "file_path = os.path.join('/','home','jovyan','work','src','data','taxi-distance.csv')\n",
    "\n",
    "if not os.path.exists(file_path):\n",
    "    raise FileNotFoundError(f\"File not found at: {file_path}\")\n",
    "\n",
    "s = pd.read_csv(file_path, header=None).squeeze()"
   ]
  },
  {
   "cell_type": "code",
   "execution_count": 25,
   "id": "ae0baa84",
   "metadata": {},
   "outputs": [
    {
     "data": {
      "text/plain": [
       "0\n",
       "short     5890\n",
       "medium    3402\n",
       "long       707\n",
       "Name: count, dtype: int64"
      ]
     },
     "execution_count": 25,
     "metadata": {},
     "output_type": "execute_result"
    }
   ],
   "source": [
    "categorized_df = pd.cut(\n",
    "    s,\n",
    "    bins=[0, 2, 10, s.max()],\n",
    "    include_lowest=True,\n",
    "    labels=['short', 'medium', 'long']\n",
    ")\n",
    "\n",
    "categorized_df.value_counts()"
   ]
  }
 ],
 "metadata": {
  "kernelspec": {
   "display_name": "Python 3 (ipykernel)",
   "language": "python",
   "name": "python3"
  }
 },
 "nbformat": 4,
 "nbformat_minor": 5
}
